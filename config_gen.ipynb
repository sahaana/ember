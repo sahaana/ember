{
 "cells": [
  {
   "cell_type": "markdown",
   "metadata": {},
   "source": [
    "# Config Gen\n",
    "\n",
    "\n",
    "Basic notebook to generate and explain Ember's entire configuration file. Change the Join Specification Parameters to operate over a custom dataset."
   ]
  },
  {
   "cell_type": "markdown",
   "metadata": {},
   "source": [
    "# Imports & Util Functions"
   ]
  },
  {
   "cell_type": "code",
   "execution_count": 83,
   "metadata": {},
   "outputs": [],
   "source": [
    "import pandas as pd\n",
    "import numpy as np\n",
    "import json\n",
    "from collections import defaultdict "
   ]
  },
  {
   "cell_type": "code",
   "execution_count": 84,
   "metadata": {},
   "outputs": [],
   "source": [
    "def save_config(config_path):\n",
    "    with open(config_path, 'w') as fp:\n",
    "        json.dump(config, fp, indent=4)\n",
    "        \n",
    "def load_config(config_path):\n",
    "    with open(config_path) as fp:\n",
    "        config = json.load(fp)\n",
    "    return config"
   ]
  },
  {
   "cell_type": "markdown",
   "metadata": {},
   "source": [
    "# Set base paths for data and ember home, and name config"
   ]
  },
  {
   "cell_type": "code",
   "execution_count": 85,
   "metadata": {},
   "outputs": [],
   "source": [
    "path_base = '.'\n",
    "data_base = './data/'\n",
    "config_name = \"demo\""
   ]
  },
  {
   "cell_type": "markdown",
   "metadata": {},
   "source": [
    "# Init New Config"
   ]
  },
  {
   "cell_type": "code",
   "execution_count": 86,
   "metadata": {},
   "outputs": [],
   "source": [
    "config = defaultdict(dict) "
   ]
  },
  {
   "cell_type": "markdown",
   "metadata": {},
   "source": [
    "# Join Specification Parameters (change me)\n",
    "\n",
    "These are the only paramters you should change to begin with, before considering any of the lower level ones:\n",
    "\n",
    "* <b> Data Directory Name </b>: must have train_table_A (\"left\"), train_table_B (\"right\"), train_supervision, and optional test_supervision over test_table_A and test_table_B. Must be rooted from path_base\n",
    "* <b> Join Type </b>: must be \"INNER\", \"LEFT\", \"RIGHT\", or \"FULL\"\n",
    "* <b> Join sizes</b>: left size and right size"
   ]
  },
  {
   "cell_type": "code",
   "execution_count": 87,
   "metadata": {},
   "outputs": [],
   "source": [
    "config['data_dir'] = 'abt-buy'\n",
    "config['join_type'] = \"LEFT\" # Currently only supports left/right one-to-many joins.\n",
    "config['left_size'] = 1\n",
    "config['right_size'] = 10\n",
    "\n",
    "## Do not edit!\n",
    "config['data_path'] = data_base + config['data_dir']"
   ]
  },
  {
   "cell_type": "markdown",
   "metadata": {},
   "source": [
    "# Encoder Parameters"
   ]
  },
  {
   "cell_type": "code",
   "execution_count": 88,
   "metadata": {},
   "outputs": [],
   "source": [
    "# Alternative configurations are not currently supported by the public API, \n",
    "# but can be added upon request\n",
    "config['num_encoders'] = 'single'\n",
    "config['model_type'] = 'distilbert'\n",
    "config['tokenizer_casing'] = 'uncased'"
   ]
  },
  {
   "cell_type": "markdown",
   "metadata": {},
   "source": [
    "# Pretraining Parameters"
   ]
  },
  {
   "cell_type": "markdown",
   "metadata": {},
   "source": [
    "## Data preparing"
   ]
  },
  {
   "cell_type": "code",
   "execution_count": 89,
   "metadata": {},
   "outputs": [],
   "source": [
    "# only available preparer; no not modify unless adding new preparers\n",
    "config['preparer'] = 'sentence'\n",
    "config['new_col_name'] = 'merged_all'\n",
    "config['ID_left'] = \"ltable_id\"\n",
    "config['ID_right'] = \"rtable_id\""
   ]
  },
  {
   "cell_type": "markdown",
   "metadata": {},
   "source": [
    "## Optional Pretraining"
   ]
  },
  {
   "cell_type": "code",
   "execution_count": 90,
   "metadata": {},
   "outputs": [],
   "source": [
    "config['pretrain_mlm'] = True\n",
    "\n",
    "# currently only exposes BM25-based MLM\n",
    "config['mlm_supervision'] = 'BM25' \n",
    "\n",
    "config['from_scratch'] = False\n",
    "config['mlm_train_epochs'] = 20 # Decrease to reduce pretraining time\n",
    "config['mlm_batch_size'] = 8\n",
    "\n",
    "config['mlm_probability'] = 0.15\n",
    "config['mlm_num_seps'] = None \n",
    "\n",
    "#ALL, BEFORE, AFTER for conditional masking. Please keep to 'ALL' as others are deprecated\n",
    "config['mlm_masking'] = 'ALL' \n",
    "\n",
    "config['mlm_model_name'] = f\"{config['data_dir']}-{config['model_type']}-{config['tokenizer_casing']}-\\\n",
    "masked-{config['mlm_masking']}-{config['mlm_supervision']}\""
   ]
  },
  {
   "cell_type": "markdown",
   "metadata": {},
   "source": [
    "# Representation Learning Parameters"
   ]
  },
  {
   "cell_type": "code",
   "execution_count": 91,
   "metadata": {},
   "outputs": [],
   "source": [
    "# combo of num_encoders and pretrain_MLM does this \n",
    "# Base encoder type. Options can be:\n",
    "    ## distilbert-base-cased\n",
    "    ## bert-base_cased\n",
    "    ## config['arch'] = 'pretrained'\n",
    "#config['arch'] = 'pretrained' \n",
    "#config['encoder_base']= path_base + f'/pretraining/models/{config['MLM_model_name']}'\n",
    "\n",
    "config['tokenizer'] = f\"{config['model_type']}-base-{config['tokenizer_casing']}\"\n",
    "config['pos_frac'] = 1\n",
    "\n",
    "config['train_frac'] = 1 # Increase to generate and train with more triplets. Can improve performance\n",
    "config['epochs'] = 1\n",
    "config['batch_size'] = 8\n",
    "config['final_size'] = 200\n",
    "config['lr'] = .00001\n",
    "config['loss'] = 'triplet'\n",
    "config['tl_margin'] = 1.0\n",
    "config['tl_p'] = 2\n",
    "config['pool_type'] = \"CLS\"\n",
    "config['tokenizer_max_length'] = 512\n",
    "\n",
    "config['model_name'] = f\"{config['data_dir']}-{config['model_type']}-{config['tokenizer_casing']}-\\\n",
    "{config['num_encoders']}-pretrain-{config['pretrain_mlm']}-pos-frac-{config['pos_frac']}\""
   ]
  },
  {
   "cell_type": "markdown",
   "metadata": {},
   "source": [
    "# Save and load (to verify) config"
   ]
  },
  {
   "cell_type": "code",
   "execution_count": 92,
   "metadata": {},
   "outputs": [
    {
     "name": "stdout",
     "output_type": "stream",
     "text": [
      "Run the command as follows:\n",
      "python ember.py -c ./configs/demo.json\n"
     ]
    },
    {
     "data": {
      "text/plain": [
       "{'data_dir': 'abt-buy',\n",
       " 'join_type': 'LEFT',\n",
       " 'left_size': 1,\n",
       " 'right_size': 10,\n",
       " 'data_path': './data/abt-buy',\n",
       " 'num_encoders': 'single',\n",
       " 'model_type': 'distilbert',\n",
       " 'tokenizer_casing': 'uncased',\n",
       " 'preparer': 'sentence',\n",
       " 'new_col_name': 'merged_all',\n",
       " 'ID_left': 'ltable_id',\n",
       " 'ID_right': 'rtable_id',\n",
       " 'pretrain_mlm': True,\n",
       " 'mlm_supervision': 'BM25',\n",
       " 'from_scratch': False,\n",
       " 'mlm_train_epochs': 20,\n",
       " 'mlm_batch_size': 8,\n",
       " 'mlm_probability': 0.15,\n",
       " 'mlm_num_seps': None,\n",
       " 'mlm_masking': 'ALL',\n",
       " 'mlm_model_name': 'abt-buy-distilbert-uncased-masked-ALL-BM25',\n",
       " 'tokenizer': 'distilbert-base-uncased',\n",
       " 'pos_frac': 1,\n",
       " 'train_frac': 1,\n",
       " 'epochs': 1,\n",
       " 'batch_size': 8,\n",
       " 'final_size': 200,\n",
       " 'lr': 1e-05,\n",
       " 'loss': 'triplet',\n",
       " 'tl_margin': 1.0,\n",
       " 'tl_p': 2,\n",
       " 'pool_type': 'CLS',\n",
       " 'tokenizer_max_length': 512,\n",
       " 'model_name': 'abt-buy-distilbert-uncased-single-pretrain-True-pos-frac-1'}"
      ]
     },
     "execution_count": 92,
     "metadata": {},
     "output_type": "execute_result"
    }
   ],
   "source": [
    "config_path = path_base + f\"/configs/{config_name}.json\"\n",
    "print('Run the command as follows:')\n",
    "print(f\"python ember.py -c {config_path}\")\n",
    "save_config(config_path)\n",
    "load_config(config_path)"
   ]
  },
  {
   "cell_type": "code",
   "execution_count": null,
   "metadata": {},
   "outputs": [],
   "source": []
  }
 ],
 "metadata": {
  "kernelspec": {
   "display_name": "ember_pip",
   "language": "python",
   "name": "ember_pip"
  },
  "language_info": {
   "codemirror_mode": {
    "name": "ipython",
    "version": 3
   },
   "file_extension": ".py",
   "mimetype": "text/x-python",
   "name": "python",
   "nbconvert_exporter": "python",
   "pygments_lexer": "ipython3",
   "version": "3.8.5"
  },
  "toc": {
   "base_numbering": 1,
   "nav_menu": {},
   "number_sections": true,
   "sideBar": true,
   "skip_h1_title": false,
   "title_cell": "Table of Contents",
   "title_sidebar": "Contents",
   "toc_cell": false,
   "toc_position": {},
   "toc_section_display": true,
   "toc_window_display": false
  }
 },
 "nbformat": 4,
 "nbformat_minor": 4
}
